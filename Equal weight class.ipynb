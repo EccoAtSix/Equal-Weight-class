{
 "cells": [
  {
   "cell_type": "code",
   "execution_count": 1,
   "id": "30c38c7d",
   "metadata": {},
   "outputs": [],
   "source": [
    "import numpy as np\n",
    "import pandas as pd\n",
    "import requests\n",
    "from scipy import stats\n",
    "import matplotlib.pyplot as plt\n",
    "import seaborn as sns\n",
    "import yfinance as yf\n",
    "import datetime as dt\n",
    "import warnings as wg\n",
    "wg.filterwarnings(\"ignore\")"
   ]
  },
  {
   "cell_type": "code",
   "execution_count": 10,
   "id": "787e6bb0",
   "metadata": {},
   "outputs": [
    {
     "data": {
      "text/plain": [
       "0.09672314"
      ]
     },
     "execution_count": 10,
     "metadata": {},
     "output_type": "execute_result"
    }
   ],
   "source": [
    "yf.Ticker(\"DOGE-USD\").info[\"previousClose\"] #info[\"previousClose\"]"
   ]
  },
  {
   "cell_type": "code",
   "execution_count": 11,
   "id": "a022601b",
   "metadata": {},
   "outputs": [],
   "source": [
    "class equal_weight:\n",
    "    def __init__(self,symbols):\n",
    "        self.symbols=symbols\n",
    "        columns=[\"Ticker\",\"Previous close (USD)\",\"MarketCap\",\"Units to buy\"]\n",
    "        data=pd.DataFrame(columns=columns)\n",
    "        data[\"Ticker\"]=self.symbols\n",
    "        data.fillna(0,inplace=True)\n",
    "        self.data_base=data\n",
    "    def calculate(self,capital,top):\n",
    "        for i,symbols in zip(self.data_base.index,self.symbols):\n",
    "            self.data_base.loc[i,\"Previous close (USD)\"]=yf.Ticker(symbols).info[\"previousClose\"]\n",
    "            self.data_base.loc[i,\"MarketCap\"]=yf.Ticker(symbols).info[\"regularMarketVolume\"]\n",
    "        portfolio_size=capital\n",
    "        position_size = portfolio_size / len(self.data_base.index)\n",
    "        for h in self.data_base.index:\n",
    "            self.data_base.loc[h, 'Units to buy'] = position_size / self.data_base['Previous close (USD)'][h]\n",
    "        self.data_base.sort_values(\"Units to buy\",ascending=False,inplace=True)\n",
    "        top_data=self.data_base[:top]\n",
    "        return top_data"
   ]
  },
  {
   "cell_type": "code",
   "execution_count": 12,
   "id": "e879d501",
   "metadata": {},
   "outputs": [
    {
     "data": {
      "text/html": [
       "<div>\n",
       "<style scoped>\n",
       "    .dataframe tbody tr th:only-of-type {\n",
       "        vertical-align: middle;\n",
       "    }\n",
       "\n",
       "    .dataframe tbody tr th {\n",
       "        vertical-align: top;\n",
       "    }\n",
       "\n",
       "    .dataframe thead th {\n",
       "        text-align: right;\n",
       "    }\n",
       "</style>\n",
       "<table border=\"1\" class=\"dataframe\">\n",
       "  <thead>\n",
       "    <tr style=\"text-align: right;\">\n",
       "      <th></th>\n",
       "      <th>Ticker</th>\n",
       "      <th>Previous close (USD)</th>\n",
       "      <th>MarketCap</th>\n",
       "      <th>Units to buy</th>\n",
       "    </tr>\n",
       "  </thead>\n",
       "  <tbody>\n",
       "    <tr>\n",
       "      <th>8</th>\n",
       "      <td>DOGE-USD</td>\n",
       "      <td>0.096723</td>\n",
       "      <td>396495872</td>\n",
       "      <td>5743.770886</td>\n",
       "    </tr>\n",
       "    <tr>\n",
       "      <th>7</th>\n",
       "      <td>ADA-USD</td>\n",
       "      <td>0.311963</td>\n",
       "      <td>154649408</td>\n",
       "      <td>1780.839226</td>\n",
       "    </tr>\n",
       "    <tr>\n",
       "      <th>6</th>\n",
       "      <td>XRP-USD</td>\n",
       "      <td>0.389192</td>\n",
       "      <td>636563840</td>\n",
       "      <td>1427.459413</td>\n",
       "    </tr>\n",
       "    <tr>\n",
       "      <th>5</th>\n",
       "      <td>BUSD-USD</td>\n",
       "      <td>0.999979</td>\n",
       "      <td>5396855296</td>\n",
       "      <td>555.567222</td>\n",
       "    </tr>\n",
       "    <tr>\n",
       "      <th>4</th>\n",
       "      <td>USDC-USD</td>\n",
       "      <td>1.000041</td>\n",
       "      <td>2014900992</td>\n",
       "      <td>555.532668</td>\n",
       "    </tr>\n",
       "    <tr>\n",
       "      <th>2</th>\n",
       "      <td>USDT-USD</td>\n",
       "      <td>1.000055</td>\n",
       "      <td>23402137600</td>\n",
       "      <td>555.525168</td>\n",
       "    </tr>\n",
       "  </tbody>\n",
       "</table>\n",
       "</div>"
      ],
      "text/plain": [
       "     Ticker  Previous close (USD)    MarketCap  Units to buy\n",
       "8  DOGE-USD              0.096723    396495872   5743.770886\n",
       "7   ADA-USD              0.311963    154649408   1780.839226\n",
       "6   XRP-USD              0.389192    636563840   1427.459413\n",
       "5  BUSD-USD              0.999979   5396855296    555.567222\n",
       "4  USDC-USD              1.000041   2014900992    555.532668\n",
       "2  USDT-USD              1.000055  23402137600    555.525168"
      ]
     },
     "execution_count": 12,
     "metadata": {},
     "output_type": "execute_result"
    }
   ],
   "source": [
    "symbols_yahoo=[\"BTC-USD\",\"ETH-USD\",\"USDT-USD\",\"BNB-USD\",\"USDC-USD\",\"BUSD-USD\",\"XRP-USD\",\n",
    "        \"ADA-USD\",\"DOGE-USD\"]\n",
    "obj=equal_weight(symbols=symbols_yahoo)\n",
    "obj.calculate(5000,6)"
   ]
  }
 ],
 "metadata": {
  "kernelspec": {
   "display_name": "Python 3 (ipykernel)",
   "language": "python",
   "name": "python3"
  },
  "language_info": {
   "codemirror_mode": {
    "name": "ipython",
    "version": 3
   },
   "file_extension": ".py",
   "mimetype": "text/x-python",
   "name": "python",
   "nbconvert_exporter": "python",
   "pygments_lexer": "ipython3",
   "version": "3.9.12"
  }
 },
 "nbformat": 4,
 "nbformat_minor": 5
}
